{
 "cells": [
  {
   "cell_type": "markdown",
   "source": [
    "# Bitcoin wealth distribution\n",
    "This notebook analyses the wealth distribution of Bitcoin. It builds on a [CSV file](data/bitcoin_balances_13052022.csv)\n",
    "containing the richest bitcoin addresses and their balances. The balances were crawled from the\n",
    "website [BitInfoCharts](https://bitinfocharts.com/en/top-100-richest-bitcoin-addresses.html) using\n",
    "the script [execute_crawler.py](execute_crawler.py).\n",
    "\n",
    "In order to crawl the latest Bitcoin balances, the script can be run again. Afterwards,\n",
    "the variable CSV_PATH must be adjusted accordingly."
   ],
   "metadata": {
    "collapsed": false,
    "pycharm": {
     "name": "#%% md\n"
    }
   }
  },
  {
   "cell_type": "markdown",
   "source": [
    "### Setup environment\n",
    "Let's set up a data science environment"
   ],
   "metadata": {
    "collapsed": false,
    "pycharm": {
     "name": "#%% md\n"
    }
   }
  },
  {
   "cell_type": "code",
   "execution_count": 1,
   "metadata": {
    "collapsed": true
   },
   "outputs": [],
   "source": [
    "# Imports\n",
    "import numpy as np\n",
    "import pandas as pd\n",
    "import matplotlib.pyplot as plt\n",
    "import quantecon as qe\n",
    "from marx import crawler"
   ]
  },
  {
   "cell_type": "code",
   "execution_count": 2,
   "outputs": [],
   "source": [
    "# Configuration\n",
    "DATA_PATH = \"../data/\"\n",
    "CSV_PATH = DATA_PATH + \"bitcoin_balances_13052022.csv\""
   ],
   "metadata": {
    "collapsed": false,
    "pycharm": {
     "name": "#%%%\n"
    }
   }
  },
  {
   "cell_type": "markdown",
   "source": [
    "### Load data\n",
    "Load the richest bitcoin addresses and their balances from file"
   ],
   "metadata": {
    "collapsed": false,
    "pycharm": {
     "name": "#%% md\n"
    }
   }
  },
  {
   "cell_type": "code",
   "execution_count": 3,
   "outputs": [
    {
     "data": {
      "text/plain": "   rank                                            address   balance  \\\n0     1  34xp4vRoCGJym3xR7yCVPFHoCNxv4Twseowallet: Bina...  252597.0   \n1     2  bc1qgdjqv0av3q56jvd82tkdjpy7gdp9ut8tlqmgrpmv24...  168010.0   \n2     3                 1P5ZEDWTKTFGxQjZphgWPQUpe554WKDfHQ  126238.0   \n3     4  3LYJfcfHPXYJreMsASk2jkn69LWEYKzexbwallet: Bina...  116601.0   \n4     5         bc1qazcm763858nkj2dj986etajv6wquslv8uxwczt   94643.0   \n\n      crawled  \n0  2022-05-13  \n1  2022-05-13  \n2  2022-05-13  \n3  2022-05-13  \n4  2022-05-13  ",
      "text/html": "<div>\n<style scoped>\n    .dataframe tbody tr th:only-of-type {\n        vertical-align: middle;\n    }\n\n    .dataframe tbody tr th {\n        vertical-align: top;\n    }\n\n    .dataframe thead th {\n        text-align: right;\n    }\n</style>\n<table border=\"1\" class=\"dataframe\">\n  <thead>\n    <tr style=\"text-align: right;\">\n      <th></th>\n      <th>rank</th>\n      <th>address</th>\n      <th>balance</th>\n      <th>crawled</th>\n    </tr>\n  </thead>\n  <tbody>\n    <tr>\n      <th>0</th>\n      <td>1</td>\n      <td>34xp4vRoCGJym3xR7yCVPFHoCNxv4Twseowallet: Bina...</td>\n      <td>252597.0</td>\n      <td>2022-05-13</td>\n    </tr>\n    <tr>\n      <th>1</th>\n      <td>2</td>\n      <td>bc1qgdjqv0av3q56jvd82tkdjpy7gdp9ut8tlqmgrpmv24...</td>\n      <td>168010.0</td>\n      <td>2022-05-13</td>\n    </tr>\n    <tr>\n      <th>2</th>\n      <td>3</td>\n      <td>1P5ZEDWTKTFGxQjZphgWPQUpe554WKDfHQ</td>\n      <td>126238.0</td>\n      <td>2022-05-13</td>\n    </tr>\n    <tr>\n      <th>3</th>\n      <td>4</td>\n      <td>3LYJfcfHPXYJreMsASk2jkn69LWEYKzexbwallet: Bina...</td>\n      <td>116601.0</td>\n      <td>2022-05-13</td>\n    </tr>\n    <tr>\n      <th>4</th>\n      <td>5</td>\n      <td>bc1qazcm763858nkj2dj986etajv6wquslv8uxwczt</td>\n      <td>94643.0</td>\n      <td>2022-05-13</td>\n    </tr>\n  </tbody>\n</table>\n</div>"
     },
     "execution_count": 3,
     "metadata": {},
     "output_type": "execute_result"
    }
   ],
   "source": [
    "balances_frame = pd.read_csv(CSV_PATH)\n",
    "balances_frame.head()"
   ],
   "metadata": {
    "collapsed": false,
    "pycharm": {
     "name": "#%%\n"
    }
   }
  },
  {
   "cell_type": "markdown",
   "source": [
    "### Balance statistics\n",
    "Calculate statistical key figures"
   ],
   "metadata": {
    "collapsed": false,
    "pycharm": {
     "name": "#%% md\n"
    }
   }
  },
  {
   "cell_type": "code",
   "execution_count": 4,
   "outputs": [
    {
     "name": "stdout",
     "output_type": "stream",
     "text": [
      "Gini: 0.6501769866861353 \n",
      "\n",
      "N: 10000\n",
      "Min: 167.08\n",
      "Max: 252597.0\n",
      "Mean: 1124.202996\n",
      "Median: 460.07\n"
     ]
    }
   ],
   "source": [
    "# Print Statistics\n",
    "balance_array = np.array(balances_frame[\"balance\"])\n",
    "\n",
    "print(\"Gini:\", qe.gini_coefficient(balance_array), \"\\n\")\n",
    "print(\"N:\", len(balances_frame))\n",
    "print(\"Min:\", balances_frame[\"balance\"].min())\n",
    "print(\"Max:\", balances_frame[\"balance\"].max())\n",
    "print(\"Mean:\", balances_frame[\"balance\"].mean())\n",
    "print(\"Median:\", balances_frame[\"balance\"].median())"
   ],
   "metadata": {
    "collapsed": false,
    "pycharm": {
     "name": "#%%\n"
    }
   }
  },
  {
   "cell_type": "markdown",
   "source": [
    "### Lorenz curve\n",
    "Plot a Lorenz curve to visualise the inequality of the balances"
   ],
   "metadata": {
    "collapsed": false,
    "pycharm": {
     "name": "#%% md\n"
    }
   }
  },
  {
   "cell_type": "code",
   "execution_count": 5,
   "outputs": [
    {
     "data": {
      "text/plain": "<Figure size 432x288 with 1 Axes>",
      "image/png": "[encoded data removed]"
     },
     "metadata": {
      "needs_background": "light"
     },
     "output_type": "display_data"
    }
   ],
   "source": [
    "# Plot Lorenz curve\n",
    "f_vals, l_vals = qe.lorenz_curve(balance_array)\n",
    "\n",
    "fig, ax = plt.subplots()\n",
    "ax.plot(f_vals, l_vals, label=\"balances\")\n",
    "ax.plot(f_vals, f_vals)\n",
    "ax.legend()\n",
    "plt.title(\"Bitcoins wealth distribution\")\n",
    "plt.show()"
   ],
   "metadata": {
    "collapsed": false,
    "pycharm": {
     "name": "#%%\n"
    }
   }
  },
  {
   "cell_type": "markdown",
   "source": [
    "### Histogram\n",
    "Plot a histogram to visualise the distribution of the balances"
   ],
   "metadata": {
    "collapsed": false,
    "pycharm": {
     "name": "#%% md\n"
    }
   }
  },
  {
   "cell_type": "code",
   "execution_count": 6,
   "outputs": [
    {
     "data": {
      "text/plain": "<Figure size 432x288 with 1 Axes>",
      "image/png": "[encoded data removed]"
     },
     "metadata": {
      "needs_background": "light"
     },
     "output_type": "display_data"
    }
   ],
   "source": [
    "# Plot histogram\n",
    "plt.figure()\n",
    "plt.title(\"Bitcoins wealth distribution\")\n",
    "plt.hist(balances_frame[\"balance\"])\n",
    "plt.show()"
   ],
   "metadata": {
    "collapsed": false,
    "pycharm": {
     "name": "#%%\n"
    }
   }
  },
  {
   "cell_type": "markdown",
   "source": [
    "### Source"
   ],
   "metadata": {
    "collapsed": false,
    "pycharm": {
     "name": "#%% md\n"
    }
   }
  },
  {
   "cell_type": "code",
   "execution_count": 7,
   "outputs": [
    {
     "name": "stdout",
     "output_type": "stream",
     "text": [
      "Balances crawled from: https://bitinfocharts.com/en/top-100-richest-bitcoin-addresses.html\n",
      "Crawling date: 2022-05-13\n"
     ]
    }
   ],
   "source": [
    "print(\"Balances crawled from:\", crawler.FIRST_URL)\n",
    "print(\"Crawling date:\", balances_frame[\"crawled\"].unique()[0])"
   ],
   "metadata": {
    "collapsed": false,
    "pycharm": {
     "name": "#%%\n"
    }
   }
  }
 ],
 "metadata": {
  "kernelspec": {
   "name": "marx",
   "language": "python",
   "display_name": "marx"
  },
  "language_info": {
   "codemirror_mode": {
    "name": "ipython",
    "version": 2
   },
   "file_extension": ".py",
   "mimetype": "text/x-python",
   "name": "python",
   "nbconvert_exporter": "python",
   "pygments_lexer": "ipython2",
   "version": "2.7.6"
  }
 },
 "nbformat": 4,
 "nbformat_minor": 0
}